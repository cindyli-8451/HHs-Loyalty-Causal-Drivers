{
 "cells": [
  {
   "cell_type": "code",
   "execution_count": 0,
   "metadata": {
    "application/vnd.databricks.v1+cell": {
     "cellMetadata": {
      "byteLimit": 2048000,
      "rowLimit": 10000
     },
     "inputWidgets": {},
     "nuid": "53262961-d288-43c2-895a-33f58a6fb13e",
     "showTitle": false,
     "title": ""
    }
   },
   "outputs": [
    {
     "output_type": "display_data",
     "data": {
      "text/html": [
       "<style scoped>\n",
       "  .ansiout {\n",
       "    display: block;\n",
       "    unicode-bidi: embed;\n",
       "    white-space: pre-wrap;\n",
       "    word-wrap: break-word;\n",
       "    word-break: break-all;\n",
       "    font-family: \"Source Code Pro\", \"Menlo\", monospace;;\n",
       "    font-size: 13px;\n",
       "    color: #555;\n",
       "    margin-left: 4px;\n",
       "    line-height: 19px;\n",
       "  }\n",
       "</style>\n",
       "<div class=\"ansiout\"></div>"
      ]
     },
     "metadata": {
      "application/vnd.databricks.v1+output": {
       "addedWidgets": {},
       "arguments": {},
       "data": "<div class=\"ansiout\"></div>",
       "datasetInfos": [],
       "metadata": {},
       "removedWidgets": [],
       "type": "html"
      }
     },
     "output_type": "display_data"
    }
   ],
   "source": [
    "import matplotlib.pyplot as plt\n",
    "import pandas as pd\n",
    "import numpy as np\n",
    "import pyspark.sql.functions as f\n",
    "from pyspark.sql.types import *"
   ]
  },
  {
   "cell_type": "code",
   "execution_count": 0,
   "metadata": {
    "application/vnd.databricks.v1+cell": {
     "cellMetadata": {
      "byteLimit": 2048000,
      "rowLimit": 10000
     },
     "inputWidgets": {},
     "nuid": "9f717894-11f5-4634-b112-29717faac181",
     "showTitle": false,
     "title": ""
    }
   },
   "outputs": [
    {
     "output_type": "display_data",
     "data": {
      "text/html": [
       "<style scoped>\n",
       "  .ansiout {\n",
       "    display: block;\n",
       "    unicode-bidi: embed;\n",
       "    white-space: pre-wrap;\n",
       "    word-wrap: break-word;\n",
       "    word-break: break-all;\n",
       "    font-family: \"Source Code Pro\", \"Menlo\", monospace;;\n",
       "    font-size: 13px;\n",
       "    color: #555;\n",
       "    margin-left: 4px;\n",
       "    line-height: 19px;\n",
       "  }\n",
       "</style>\n",
       "<div class=\"ansiout\"></div>"
      ]
     },
     "metadata": {
      "application/vnd.databricks.v1+output": {
       "addedWidgets": {},
       "arguments": {},
       "data": "<div class=\"ansiout\"></div>",
       "datasetInfos": [],
       "metadata": {},
       "removedWidgets": [],
       "type": "html"
      }
     },
     "output_type": "display_data"
    }
   ],
   "source": [
    "p5_rfm_input_pd = spark.read.parquet('/dbfs/FileStore/item_optimization/optimization/cltv_actual_v_predicted')"
   ]
  },
  {
   "cell_type": "code",
   "execution_count": 0,
   "metadata": {
    "application/vnd.databricks.v1+cell": {
     "cellMetadata": {
      "byteLimit": 2048000,
      "rowLimit": 10000
     },
     "inputWidgets": {},
     "nuid": "30a23ba2-59e9-4610-81b8-d7e3a963d52c",
     "showTitle": false,
     "title": ""
    }
   },
   "outputs": [
    {
     "output_type": "display_data",
     "data": {
      "text/html": [
       "<style scoped>\n",
       "  .ansiout {\n",
       "    display: block;\n",
       "    unicode-bidi: embed;\n",
       "    white-space: pre-wrap;\n",
       "    word-wrap: break-word;\n",
       "    word-break: break-all;\n",
       "    font-family: \"Source Code Pro\", \"Menlo\", monospace;;\n",
       "    font-size: 13px;\n",
       "    color: #555;\n",
       "    margin-left: 4px;\n",
       "    line-height: 19px;\n",
       "  }\n",
       "</style>\n",
       "<div class=\"ansiout\"></div>"
      ]
     },
     "metadata": {
      "application/vnd.databricks.v1+output": {
       "addedWidgets": {},
       "arguments": {},
       "data": "<div class=\"ansiout\"></div>",
       "datasetInfos": [],
       "metadata": {},
       "removedWidgets": [],
       "type": "html"
      }
     },
     "output_type": "display_data"
    }
   ],
   "source": [
    "df = p5_rfm_input_pd[p5_rfm_input_pd.duration_holdout == 30].toPandas()\n",
    "df['diff'] =df['frequency_holdout']-df['apply_pred_purch']"
   ]
  },
  {
   "cell_type": "code",
   "execution_count": 0,
   "metadata": {
    "application/vnd.databricks.v1+cell": {
     "cellMetadata": {
      "byteLimit": 2048000,
      "rowLimit": 10000
     },
     "inputWidgets": {},
     "nuid": "2c99676c-8276-4cd9-972a-95cbb46bb914",
     "showTitle": false,
     "title": ""
    }
   },
   "outputs": [],
   "source": []
  },
  {
   "cell_type": "code",
   "execution_count": 0,
   "metadata": {
    "application/vnd.databricks.v1+cell": {
     "cellMetadata": {
      "byteLimit": 2048000,
      "rowLimit": 10000
     },
     "inputWidgets": {},
     "nuid": "0abd182d-bbbd-4c0e-aa57-33c97869c774",
     "showTitle": false,
     "title": ""
    }
   },
   "outputs": [
    {
     "output_type": "display_data",
     "data": {
      "text/html": [
       "<style scoped>\n",
       "  .table-result-container {\n",
       "    max-height: 300px;\n",
       "    overflow: auto;\n",
       "  }\n",
       "  table, th, td {\n",
       "    border: 1px solid black;\n",
       "    border-collapse: collapse;\n",
       "  }\n",
       "  th, td {\n",
       "    padding: 5px;\n",
       "  }\n",
       "  th {\n",
       "    text-align: left;\n",
       "  }\n",
       "</style><div class='table-result-container'><table class='table-result'><thead style='background-color: white'><tr><th>ehhn</th><th>lifecycle_cnt</th><th>trn_dt</th><th>visits</th><th>units</th><th>sales</th><th>date</th><th>trip_window</th><th>churn_trigger</th><th>vintage_year</th><th>first_modality</th><th>starget</th><th>socs_score</th><th>socs_seg</th><th>final_seg_code</th><th>funlo_rollup_desc</th><th>convenience_dim_seg</th><th>quality_dim_seg</th><th>health_dim_seg</th><th>price_dim_seg</th><th>inspiration_dim_seg</th><th>div_name</th><th>banner</th><th>banner_num</th><th>aiq_birth_year</th><th>presence_of_children</th><th>aiq_education</th><th>generation</th><th>ethn</th><th>income</th></tr></thead><tbody><tr><td>298599760</td><td>1</td><td>20170123</td><td>1</td><td>7</td><td>13.61</td><td>2017-01-23</td><td>6</td><td>false</td><td>2016</td><td>instore</td><td>HA</td><td>0.0413</td><td>L</td><td>6</td><td>Non-Loyal</td><td>M</td><td>H</td><td>H</td><td>M</td><td>L</td><td>null</td><td>Other</td><td>1</td><td>0</td><td>U</td><td>U</td><td>U</td><td>U</td><td>U</td></tr><tr><td>142535983</td><td>0</td><td>20150617</td><td>1</td><td>8</td><td>12.23</td><td>2015-06-17</td><td>2</td><td>false</td><td>2016</td><td>instore</td><td>HA</td><td>0.34656</td><td>M</td><td>5</td><td>Non-Loyal</td><td>M</td><td>H</td><td>M</td><td>L</td><td>L</td><td>QUALITY FOOD CENTERS</td><td>Other</td><td>1</td><td>1965</td><td>U</td><td>BACHELOR DEGREE</td><td>Gen X</td><td>WHITE</td><td>125k+</td></tr><tr><td>194492765</td><td>2</td><td>20201219</td><td>1</td><td>32</td><td>98.2</td><td>2020-12-19</td><td>17</td><td>false</td><td>2016</td><td>instore</td><td>FFL</td><td>0.63157</td><td>H</td><td>1</td><td>Loyal</td><td>M</td><td>H</td><td>M</td><td>M</td><td>M</td><td>QUALITY FOOD CENTERS</td><td>Other</td><td>1</td><td>1951</td><td>U</td><td>HS DEGREE</td><td>Baby Boomers</td><td>WHITE</td><td>26-50k</td></tr><tr><td>316603546</td><td>0</td><td>20210222</td><td>1</td><td>12</td><td>33.51</td><td>2021-02-22</td><td>10</td><td>false</td><td>2016</td><td>instore</td><td>FFL</td><td>0.27192</td><td>M</td><td>4</td><td>Opportunity</td><td>M</td><td>M</td><td>M</td><td>M</td><td>L</td><td>NASHVILLE</td><td>Kroger</td><td>0</td><td>1947</td><td>U</td><td>HS DEGREE</td><td>Baby Boomers</td><td>WHITE</td><td>26-50k</td></tr><tr><td>42869059</td><td>0</td><td>20150306</td><td>2</td><td>8</td><td>25.73</td><td>2015-03-06</td><td>1</td><td>false</td><td>2016</td><td>instore</td><td>LTL</td><td>0.88433</td><td>H</td><td>1</td><td>Loyal</td><td>M</td><td>M</td><td>M</td><td>M</td><td>H</td><td>FRY'S OF ARIZONA, INC</td><td>Other</td><td>1</td><td>1968</td><td>Y</td><td>BACHELOR DEGREE</td><td>Gen X</td><td>WHITE</td><td>125k+</td></tr><tr><td>90541539</td><td>0</td><td>20141031</td><td>1</td><td>16</td><td>57.93</td><td>2014-10-31</td><td>26</td><td>false</td><td>2016</td><td>instore</td><td>LTL</td><td>0.75634</td><td>H</td><td>2</td><td>Loyal</td><td>H</td><td>M</td><td>M</td><td>M</td><td>M</td><td>ATLANTA</td><td>Kroger</td><td>0</td><td>0</td><td>U</td><td>U</td><td>U</td><td>U</td><td>U</td></tr><tr><td>101304397</td><td>0</td><td>20211207</td><td>1</td><td>9</td><td>38.42</td><td>2021-12-07</td><td>7</td><td>false</td><td>2017</td><td>instore</td><td>LTL</td><td>0.54363</td><td>H</td><td>2</td><td>Loyal</td><td>M</td><td>M</td><td>M</td><td>M</td><td>M</td><td>COLUMBUS</td><td>Kroger</td><td>0</td><td>1985</td><td>Y</td><td>BACHELOR DEGREE</td><td>Millenials</td><td>WHITE</td><td>51-75k</td></tr><tr><td>142535983</td><td>0</td><td>20170410</td><td>1</td><td>3</td><td>6.55</td><td>2017-04-10</td><td>8</td><td>false</td><td>2016</td><td>instore</td><td>HA</td><td>0.34656</td><td>M</td><td>5</td><td>Non-Loyal</td><td>M</td><td>H</td><td>M</td><td>L</td><td>L</td><td>QUALITY FOOD CENTERS</td><td>Other</td><td>1</td><td>1965</td><td>U</td><td>BACHELOR DEGREE</td><td>Gen X</td><td>WHITE</td><td>125k+</td></tr><tr><td>210251501</td><td>1</td><td>20161031</td><td>1</td><td>3</td><td>6.39</td><td>2016-10-31</td><td>4</td><td>false</td><td>2016</td><td>instore</td><td>null</td><td>null</td><td>null</td><td>null</td><td>null</td><td>null</td><td>null</td><td>null</td><td>null</td><td>null</td><td>null</td><td>Other</td><td>1</td><td>0</td><td>U</td><td>U</td><td>U</td><td>U</td><td>U</td></tr><tr><td>283928423</td><td>0</td><td>20170404</td><td>1</td><td>7</td><td>10.71</td><td>2017-04-04</td><td>14</td><td>false</td><td>2016</td><td>instore</td><td>DG</td><td>0.04519</td><td>M</td><td>6</td><td>Non-Loyal</td><td>L</td><td>M</td><td>M</td><td>M</td><td>L</td><td>null</td><td>Other</td><td>1</td><td>1954</td><td>Y</td><td>BACHELOR DEGREE</td><td>Baby Boomers</td><td>WHITE</td><td>125k+</td></tr></tbody></table></div>"
      ]
     },
     "metadata": {
      "application/vnd.databricks.v1+output": {
       "addedWidgets": {},
       "aggData": [],
       "aggError": "",
       "aggOverflow": false,
       "aggSchema": [],
       "aggSeriesLimitReached": false,
       "aggType": "",
       "arguments": {},
       "columnCustomDisplayInfos": {},
       "data": [
        [
         "298599760",
         1,
         20170123,
         1,
         7,
         13.61,
         "2017-01-23",
         6,
         false,
         2016,
         "instore",
         "HA",
         0.0413,
         "L",
         "6",
         "Non-Loyal",
         "M",
         "H",
         "H",
         "M",
         "L",
         null,
         "Other",
         1,
         0,
         "U",
         "U",
         "U",
         "U",
         "U"
        ],
        [
         "142535983",
         0,
         20150617,
         1,
         8,
         12.23,
         "2015-06-17",
         2,
         false,
         2016,
         "instore",
         "HA",
         0.34656,
         "M",
         "5",
         "Non-Loyal",
         "M",
         "H",
         "M",
         "L",
         "L",
         "QUALITY FOOD CENTERS",
         "Other",
         1,
         1965,
         "U",
         "BACHELOR DEGREE",
         "Gen X",
         "WHITE",
         "125k+"
        ],
        [
         "194492765",
         2,
         20201219,
         1,
         32,
         98.2,
         "2020-12-19",
         17,
         false,
         2016,
         "instore",
         "FFL",
         0.63157,
         "H",
         "1",
         "Loyal",
         "M",
         "H",
         "M",
         "M",
         "M",
         "QUALITY FOOD CENTERS",
         "Other",
         1,
         1951,
         "U",
         "HS DEGREE",
         "Baby Boomers",
         "WHITE",
         "26-50k"
        ],
        [
         "316603546",
         0,
         20210222,
         1,
         12,
         33.51,
         "2021-02-22",
         10,
         false,
         2016,
         "instore",
         "FFL",
         0.27192,
         "M",
         "4",
         "Opportunity",
         "M",
         "M",
         "M",
         "M",
         "L",
         "NASHVILLE",
         "Kroger",
         0,
         1947,
         "U",
         "HS DEGREE",
         "Baby Boomers",
         "WHITE",
         "26-50k"
        ],
        [
         "42869059",
         0,
         20150306,
         2,
         8,
         25.73,
         "2015-03-06",
         1,
         false,
         2016,
         "instore",
         "LTL",
         0.88433,
         "H",
         "1",
         "Loyal",
         "M",
         "M",
         "M",
         "M",
         "H",
         "FRY'S OF ARIZONA, INC",
         "Other",
         1,
         1968,
         "Y",
         "BACHELOR DEGREE",
         "Gen X",
         "WHITE",
         "125k+"
        ],
        [
         "90541539",
         0,
         20141031,
         1,
         16,
         57.93,
         "2014-10-31",
         26,
         false,
         2016,
         "instore",
         "LTL",
         0.75634,
         "H",
         "2",
         "Loyal",
         "H",
         "M",
         "M",
         "M",
         "M",
         "ATLANTA",
         "Kroger",
         0,
         0,
         "U",
         "U",
         "U",
         "U",
         "U"
        ],
        [
         "101304397",
         0,
         20211207,
         1,
         9,
         38.42,
         "2021-12-07",
         7,
         false,
         2017,
         "instore",
         "LTL",
         0.54363,
         "H",
         "2",
         "Loyal",
         "M",
         "M",
         "M",
         "M",
         "M",
         "COLUMBUS",
         "Kroger",
         0,
         1985,
         "Y",
         "BACHELOR DEGREE",
         "Millenials",
         "WHITE",
         "51-75k"
        ],
        [
         "142535983",
         0,
         20170410,
         1,
         3,
         6.55,
         "2017-04-10",
         8,
         false,
         2016,
         "instore",
         "HA",
         0.34656,
         "M",
         "5",
         "Non-Loyal",
         "M",
         "H",
         "M",
         "L",
         "L",
         "QUALITY FOOD CENTERS",
         "Other",
         1,
         1965,
         "U",
         "BACHELOR DEGREE",
         "Gen X",
         "WHITE",
         "125k+"
        ],
        [
         "210251501",
         1,
         20161031,
         1,
         3,
         6.39,
         "2016-10-31",
         4,
         false,
         2016,
         "instore",
         null,
         null,
         null,
         null,
         null,
         null,
         null,
         null,
         null,
         null,
         null,
         "Other",
         1,
         0,
         "U",
         "U",
         "U",
         "U",
         "U"
        ],
        [
         "283928423",
         0,
         20170404,
         1,
         7,
         10.71,
         "2017-04-04",
         14,
         false,
         2016,
         "instore",
         "DG",
         0.04519,
         "M",
         "6",
         "Non-Loyal",
         "L",
         "M",
         "M",
         "M",
         "L",
         null,
         "Other",
         1,
         1954,
         "Y",
         "BACHELOR DEGREE",
         "Baby Boomers",
         "WHITE",
         "125k+"
        ]
       ],
       "datasetInfos": [],
       "dbfsResultPath": null,
       "isJsonSchema": true,
       "metadata": {},
       "overflow": false,
       "plotOptions": {
        "customPlotOptions": {},
        "displayType": "table",
        "pivotAggregation": null,
        "pivotColumns": null,
        "xColumns": null,
        "yColumns": null
       },
       "removedWidgets": [],
       "schema": [
        {
         "metadata": "{}",
         "name": "ehhn",
         "type": "\"string\""
        },
        {
         "metadata": "{}",
         "name": "lifecycle_cnt",
         "type": "\"long\""
        },
        {
         "metadata": "{}",
         "name": "trn_dt",
         "type": "\"integer\""
        },
        {
         "metadata": "{}",
         "name": "visits",
         "type": "\"long\""
        },
        {
         "metadata": "{}",
         "name": "units",
         "type": "\"long\""
        },
        {
         "metadata": "{}",
         "name": "sales",
         "type": "\"double\""
        },
        {
         "metadata": "{}",
         "name": "date",
         "type": "\"date\""
        },
        {
         "metadata": "{}",
         "name": "trip_window",
         "type": "\"integer\""
        },
        {
         "metadata": "{}",
         "name": "churn_trigger",
         "type": "\"boolean\""
        },
        {
         "metadata": "{}",
         "name": "vintage_year",
         "type": "\"integer\""
        },
        {
         "metadata": "{}",
         "name": "first_modality",
         "type": "\"string\""
        },
        {
         "metadata": "{}",
         "name": "starget",
         "type": "\"string\""
        },
        {
         "metadata": "{}",
         "name": "socs_score",
         "type": "\"double\""
        },
        {
         "metadata": "{}",
         "name": "socs_seg",
         "type": "\"string\""
        },
        {
         "metadata": "{}",
         "name": "final_seg_code",
         "type": "\"string\""
        },
        {
         "metadata": "{}",
         "name": "funlo_rollup_desc",
         "type": "\"string\""
        },
        {
         "metadata": "{}",
         "name": "convenience_dim_seg",
         "type": "\"string\""
        },
        {
         "metadata": "{}",
         "name": "quality_dim_seg",
         "type": "\"string\""
        },
        {
         "metadata": "{}",
         "name": "health_dim_seg",
         "type": "\"string\""
        },
        {
         "metadata": "{}",
         "name": "price_dim_seg",
         "type": "\"string\""
        },
        {
         "metadata": "{}",
         "name": "inspiration_dim_seg",
         "type": "\"string\""
        },
        {
         "metadata": "{}",
         "name": "div_name",
         "type": "\"string\""
        },
        {
         "metadata": "{}",
         "name": "banner",
         "type": "\"string\""
        },
        {
         "metadata": "{}",
         "name": "banner_num",
         "type": "\"integer\""
        },
        {
         "metadata": "{}",
         "name": "aiq_birth_year",
         "type": "\"integer\""
        },
        {
         "metadata": "{}",
         "name": "presence_of_children",
         "type": "\"string\""
        },
        {
         "metadata": "{}",
         "name": "aiq_education",
         "type": "\"string\""
        },
        {
         "metadata": "{}",
         "name": "generation",
         "type": "\"string\""
        },
        {
         "metadata": "{}",
         "name": "ethn",
         "type": "\"string\""
        },
        {
         "metadata": "{}",
         "name": "income",
         "type": "\"string\""
        }
       ],
       "type": "table"
      }
     },
     "output_type": "display_data"
    }
   ],
   "source": [
    "raw = spark.read.parquet(f\"abfss://personloyalty@sa8451dbxadhocprd.dfs.core.windows.net/MAI/CLTV/202205/txn_detail\")\n",
    "raw.limit(10).display()"
   ]
  },
  {
   "cell_type": "code",
   "execution_count": 0,
   "metadata": {
    "application/vnd.databricks.v1+cell": {
     "cellMetadata": {
      "byteLimit": 2048000,
      "rowLimit": 10000
     },
     "inputWidgets": {},
     "nuid": "8263539a-7dff-4197-af28-94eb56b81377",
     "showTitle": false,
     "title": ""
    }
   },
   "outputs": [
    {
     "output_type": "display_data",
     "data": {
      "text/html": [
       "<style scoped>\n",
       "  .ansiout {\n",
       "    display: block;\n",
       "    unicode-bidi: embed;\n",
       "    white-space: pre-wrap;\n",
       "    word-wrap: break-word;\n",
       "    word-break: break-all;\n",
       "    font-family: \"Source Code Pro\", \"Menlo\", monospace;;\n",
       "    font-size: 13px;\n",
       "    color: #555;\n",
       "    margin-left: 4px;\n",
       "    line-height: 19px;\n",
       "  }\n",
       "</style>\n",
       "<div class=\"ansiout\"></div>"
      ]
     },
     "metadata": {
      "application/vnd.databricks.v1+output": {
       "addedWidgets": {},
       "arguments": {},
       "data": "<div class=\"ansiout\"></div>",
       "datasetInfos": [],
       "metadata": {},
       "removedWidgets": [],
       "type": "html"
      }
     },
     "output_type": "display_data"
    }
   ],
   "source": [
    "raw_before_holdout = raw.filter(raw.date < '2022-05-19')"
   ]
  },
  {
   "cell_type": "code",
   "execution_count": 0,
   "metadata": {
    "application/vnd.databricks.v1+cell": {
     "cellMetadata": {
      "byteLimit": 2048000,
      "rowLimit": 10000
     },
     "inputWidgets": {},
     "nuid": "2b44ddec-8aa6-42cf-a14b-a4d3d1da6c7c",
     "showTitle": false,
     "title": ""
    }
   },
   "outputs": [
    {
     "output_type": "display_data",
     "data": {
      "text/html": [
       "<style scoped>\n",
       "  .ansiout {\n",
       "    display: block;\n",
       "    unicode-bidi: embed;\n",
       "    white-space: pre-wrap;\n",
       "    word-wrap: break-word;\n",
       "    word-break: break-all;\n",
       "    font-family: \"Source Code Pro\", \"Menlo\", monospace;;\n",
       "    font-size: 13px;\n",
       "    color: #555;\n",
       "    margin-left: 4px;\n",
       "    line-height: 19px;\n",
       "  }\n",
       "</style>\n",
       "<div class=\"ansiout\"></div>"
      ]
     },
     "metadata": {
      "application/vnd.databricks.v1+output": {
       "addedWidgets": {},
       "arguments": {},
       "data": "<div class=\"ansiout\"></div>",
       "datasetInfos": [],
       "metadata": {},
       "removedWidgets": [],
       "type": "html"
      }
     },
     "output_type": "display_data"
    }
   ],
   "source": [
    "avg = raw_before_holdout.groupby('ehhn').agg(((f.sum('visits'))/(f.datediff(f.max('date'), f.min('date')))).alias('avg_visits')).toPandas()"
   ]
  },
  {
   "cell_type": "code",
   "execution_count": 0,
   "metadata": {
    "application/vnd.databricks.v1+cell": {
     "cellMetadata": {
      "byteLimit": 2048000,
      "rowLimit": 10000
     },
     "inputWidgets": {},
     "nuid": "1d768fd1-cec6-496c-9e03-a9a4d6ccd6ca",
     "showTitle": false,
     "title": ""
    }
   },
   "outputs": [
    {
     "output_type": "display_data",
     "data": {
      "text/html": [
       "<style scoped>\n",
       "  .ansiout {\n",
       "    display: block;\n",
       "    unicode-bidi: embed;\n",
       "    white-space: pre-wrap;\n",
       "    word-wrap: break-word;\n",
       "    word-break: break-all;\n",
       "    font-family: \"Source Code Pro\", \"Menlo\", monospace;;\n",
       "    font-size: 13px;\n",
       "    color: #555;\n",
       "    margin-left: 4px;\n",
       "    line-height: 19px;\n",
       "  }\n",
       "</style>\n",
       "<div class=\"ansiout\"></div>"
      ]
     },
     "metadata": {
      "application/vnd.databricks.v1+output": {
       "addedWidgets": {},
       "arguments": {},
       "data": "<div class=\"ansiout\"></div>",
       "datasetInfos": [],
       "metadata": {},
       "removedWidgets": [],
       "type": "html"
      }
     },
     "output_type": "display_data"
    }
   ],
   "source": [
    "ndf = pd.merge(df, avg, how='inner', on = 'ehhn')"
   ]
  },
  {
   "cell_type": "code",
   "execution_count": 0,
   "metadata": {
    "application/vnd.databricks.v1+cell": {
     "cellMetadata": {
      "byteLimit": 2048000,
      "rowLimit": 10000
     },
     "inputWidgets": {},
     "nuid": "5cb22f09-3dbf-4e0f-bee0-03c3bb57cf6a",
     "showTitle": false,
     "title": ""
    }
   },
   "outputs": [
    {
     "output_type": "display_data",
     "data": {
      "text/html": [
       "<style scoped>\n",
       "  .ansiout {\n",
       "    display: block;\n",
       "    unicode-bidi: embed;\n",
       "    white-space: pre-wrap;\n",
       "    word-wrap: break-word;\n",
       "    word-break: break-all;\n",
       "    font-family: \"Source Code Pro\", \"Menlo\", monospace;;\n",
       "    font-size: 13px;\n",
       "    color: #555;\n",
       "    margin-left: 4px;\n",
       "    line-height: 19px;\n",
       "  }\n",
       "</style>\n",
       "<div class=\"ansiout\"></div>"
      ]
     },
     "metadata": {
      "application/vnd.databricks.v1+output": {
       "addedWidgets": {},
       "arguments": {},
       "data": "<div class=\"ansiout\"></div>",
       "datasetInfos": [],
       "metadata": {},
       "removedWidgets": [],
       "type": "html"
      }
     },
     "output_type": "display_data"
    }
   ],
   "source": [
    "ndf = ndf[ndf['frequency_holdout']!=ndf['apply_pred_purch']]\n",
    "ndf = ndf[ndf.total_spend_cal >0]\n",
    "ndf['absdiff'] = np.abs(ndf['frequency_holdout']-ndf['apply_pred_purch'])\n",
    "ndf['reldiff'] = ndf.absdiff/ndf.avg_visits"
   ]
  },
  {
   "cell_type": "code",
   "execution_count": 0,
   "metadata": {
    "application/vnd.databricks.v1+cell": {
     "cellMetadata": {
      "byteLimit": 2048000,
      "rowLimit": 10000
     },
     "inputWidgets": {},
     "nuid": "bf7836cf-d7fa-4e25-87bb-00854f4a704e",
     "showTitle": false,
     "title": ""
    }
   },
   "outputs": [
    {
     "output_type": "display_data",
     "data": {
      "text/html": [
       "<style scoped>\n",
       "  .ansiout {\n",
       "    display: block;\n",
       "    unicode-bidi: embed;\n",
       "    white-space: pre-wrap;\n",
       "    word-wrap: break-word;\n",
       "    word-break: break-all;\n",
       "    font-family: \"Source Code Pro\", \"Menlo\", monospace;;\n",
       "    font-size: 13px;\n",
       "    color: #555;\n",
       "    margin-left: 4px;\n",
       "    line-height: 19px;\n",
       "  }\n",
       "</style>\n",
       "<div class=\"ansiout\">Out[9]: </div>"
      ]
     },
     "metadata": {
      "application/vnd.databricks.v1+output": {
       "addedWidgets": {},
       "arguments": {},
       "data": "<div class=\"ansiout\">Out[9]: </div>",
       "datasetInfos": [],
       "metadata": {},
       "removedWidgets": [],
       "type": "html"
      }
     },
     "output_type": "display_data"
    },
    {
     "output_type": "display_data",
     "data": {
      "image/png": "[encoded data removed]"
     },
     "metadata": {
      "application/vnd.databricks.v1+output": {
       "addedWidgets": {},
       "arguments": {},
       "data": "data:image/png;base64,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",
       "datasetInfos": [],
       "metadata": {
        "imageDimensions": {
         "height": 248,
         "width": 401
        }
       },
       "removedWidgets": [],
       "type": "image"
      },
      "image/png": {
       "height": 248,
       "width": 401
      }
     },
     "output_type": "display_data"
    },
    {
     "output_type": "display_data",
     "data": {
      "text/html": [
       "<style scoped>\n",
       "  .ansiout {\n",
       "    display: block;\n",
       "    unicode-bidi: embed;\n",
       "    white-space: pre-wrap;\n",
       "    word-wrap: break-word;\n",
       "    word-break: break-all;\n",
       "    font-family: \"Source Code Pro\", \"Menlo\", monospace;;\n",
       "    font-size: 13px;\n",
       "    color: #555;\n",
       "    margin-left: 4px;\n",
       "    line-height: 19px;\n",
       "  }\n",
       "</style>\n",
       "<div class=\"ansiout\">&lt;AxesSubplot:ylabel=&#39;Frequency&#39;&gt;</div>"
      ]
     },
     "metadata": {
      "application/vnd.databricks.v1+output": {
       "addedWidgets": {},
       "arguments": {},
       "data": "<div class=\"ansiout\">&lt;AxesSubplot:ylabel=&#39;Frequency&#39;&gt;</div>",
       "datasetInfos": [],
       "metadata": {},
       "removedWidgets": [],
       "type": "html"
      }
     },
     "output_type": "display_data"
    }
   ],
   "source": [
    "ndf.reldiff.plot.hist(grid=True, bins=50, rwidth=0.9, color='#607c8e', range = (0.0001,0.2))"
   ]
  },
  {
   "cell_type": "code",
   "execution_count": 0,
   "metadata": {
    "application/vnd.databricks.v1+cell": {
     "cellMetadata": {
      "byteLimit": 2048000,
      "rowLimit": 10000
     },
     "inputWidgets": {},
     "nuid": "96ab8574-9867-4bd0-9315-a3dd326a623d",
     "showTitle": false,
     "title": ""
    }
   },
   "outputs": [
    {
     "output_type": "display_data",
     "data": {
      "text/html": [
       "<style scoped>\n",
       "  .ansiout {\n",
       "    display: block;\n",
       "    unicode-bidi: embed;\n",
       "    white-space: pre-wrap;\n",
       "    word-wrap: break-word;\n",
       "    word-break: break-all;\n",
       "    font-family: \"Source Code Pro\", \"Menlo\", monospace;;\n",
       "    font-size: 13px;\n",
       "    color: #555;\n",
       "    margin-left: 4px;\n",
       "    line-height: 19px;\n",
       "  }\n",
       "</style>\n",
       "<div class=\"ansiout\">Out[10]: </div>"
      ]
     },
     "metadata": {
      "application/vnd.databricks.v1+output": {
       "addedWidgets": {},
       "arguments": {},
       "data": "<div class=\"ansiout\">Out[10]: </div>",
       "datasetInfos": [],
       "metadata": {},
       "removedWidgets": [],
       "type": "html"
      }
     },
     "output_type": "display_data"
    },
    {
     "output_type": "display_data",
     "data": {
      "image/png": "[encoded data removed]"
     },
     "metadata": {
      "application/vnd.databricks.v1+output": {
       "addedWidgets": {},
       "arguments": {},
       "data": "data:image/png;base64,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",
       "datasetInfos": [],
       "metadata": {
        "imageDimensions": {
         "height": 267,
         "width": 399
        }
       },
       "removedWidgets": [],
       "type": "image"
      },
      "image/png": {
       "height": 267,
       "width": 399
      }
     },
     "output_type": "display_data"
    },
    {
     "output_type": "display_data",
     "data": {
      "text/html": [
       "<style scoped>\n",
       "  .ansiout {\n",
       "    display: block;\n",
       "    unicode-bidi: embed;\n",
       "    white-space: pre-wrap;\n",
       "    word-wrap: break-word;\n",
       "    word-break: break-all;\n",
       "    font-family: \"Source Code Pro\", \"Menlo\", monospace;;\n",
       "    font-size: 13px;\n",
       "    color: #555;\n",
       "    margin-left: 4px;\n",
       "    line-height: 19px;\n",
       "  }\n",
       "</style>\n",
       "<div class=\"ansiout\">Text(0, 0.5, &#39;y&#39;)</div>"
      ]
     },
     "metadata": {
      "application/vnd.databricks.v1+output": {
       "addedWidgets": {},
       "arguments": {},
       "data": "<div class=\"ansiout\">Text(0, 0.5, &#39;y&#39;)</div>",
       "datasetInfos": [],
       "metadata": {},
       "removedWidgets": [],
       "type": "html"
      }
     },
     "output_type": "display_data"
    }
   ],
   "source": [
    "x=ndf.reldiff\n",
    "x=np.sort(x)\n",
    "n = x.size\n",
    "y = np.arange(1, n+1) / n\n",
    "plt.scatter(x=x, y=y);\n",
    "#plt.ylim([0.9995, 1.00001])\n",
    "plt.xlim([0, 1])\n",
    "plt.xlabel('x', fontsize=16)\n",
    "plt.ylabel('y', fontsize=16)"
   ]
  },
  {
   "cell_type": "code",
   "execution_count": 0,
   "metadata": {
    "application/vnd.databricks.v1+cell": {
     "cellMetadata": {
      "byteLimit": 2048000,
      "rowLimit": 10000
     },
     "inputWidgets": {},
     "nuid": "0544562c-1ac7-4b64-bf7b-e1335ee5fd00",
     "showTitle": false,
     "title": ""
    }
   },
   "outputs": [
    {
     "output_type": "display_data",
     "data": {
      "text/html": [
       "<style scoped>\n",
       "  .ansiout {\n",
       "    display: block;\n",
       "    unicode-bidi: embed;\n",
       "    white-space: pre-wrap;\n",
       "    word-wrap: break-word;\n",
       "    word-break: break-all;\n",
       "    font-family: \"Source Code Pro\", \"Menlo\", monospace;;\n",
       "    font-size: 13px;\n",
       "    color: #555;\n",
       "    margin-left: 4px;\n",
       "    line-height: 19px;\n",
       "  }\n",
       "</style>\n",
       "<div class=\"ansiout\">Out[11]: [0.030816282930043543, 542783, 17613513]</div>"
      ]
     },
     "metadata": {
      "application/vnd.databricks.v1+output": {
       "addedWidgets": {},
       "arguments": {},
       "data": "<div class=\"ansiout\">Out[11]: [0.030816282930043543, 542783, 17613513]</div>",
       "datasetInfos": [],
       "metadata": {},
       "removedWidgets": [],
       "type": "html"
      }
     },
     "output_type": "display_data"
    }
   ],
   "source": [
    "[sum(ndf.reldiff>0.1)/ndf.size, sum(ndf.reldiff>0.1), ndf.size]"
   ]
  },
  {
   "cell_type": "code",
   "execution_count": 0,
   "metadata": {
    "application/vnd.databricks.v1+cell": {
     "cellMetadata": {
      "byteLimit": 2048000,
      "rowLimit": 10000
     },
     "inputWidgets": {},
     "nuid": "5a5461aa-69d7-49b1-9e65-4bb7048f3dd4",
     "showTitle": false,
     "title": ""
    }
   },
   "outputs": [
    {
     "output_type": "display_data",
     "data": {
      "text/html": [
       "<style scoped>\n",
       "  .ansiout {\n",
       "    display: block;\n",
       "    unicode-bidi: embed;\n",
       "    white-space: pre-wrap;\n",
       "    word-wrap: break-word;\n",
       "    word-break: break-all;\n",
       "    font-family: \"Source Code Pro\", \"Menlo\", monospace;;\n",
       "    font-size: 13px;\n",
       "    color: #555;\n",
       "    margin-left: 4px;\n",
       "    line-height: 19px;\n",
       "  }\n",
       "</style>\n",
       "<div class=\"ansiout\">Out[14]: </div>"
      ]
     },
     "metadata": {
      "application/vnd.databricks.v1+output": {
       "addedWidgets": {},
       "arguments": {},
       "data": "<div class=\"ansiout\">Out[14]: </div>",
       "datasetInfos": [],
       "metadata": {},
       "removedWidgets": [],
       "type": "html"
      }
     },
     "output_type": "display_data"
    },
    {
     "output_type": "display_data",
     "data": {
      "text/html": [
       "<div>\n",
       "<style scoped>\n",
       "    .dataframe tbody tr th:only-of-type {\n",
       "        vertical-align: middle;\n",
       "    }\n",
       "\n",
       "    .dataframe tbody tr th {\n",
       "        vertical-align: top;\n",
       "    }\n",
       "\n",
       "    .dataframe thead th {\n",
       "        text-align: right;\n",
       "    }\n",
       "</style>\n",
       "<table border=\"1\" class=\"dataframe\">\n",
       "  <thead>\n",
       "    <tr style=\"text-align: right;\">\n",
       "      <th></th>\n",
       "      <th>ehhn</th>\n",
       "      <th>frequency_cal</th>\n",
       "      <th>recency_cal</th>\n",
       "      <th>T_cal</th>\n",
       "      <th>total_spend_cal</th>\n",
       "      <th>avg_spend_cal</th>\n",
       "      <th>frequency_holdout</th>\n",
       "      <th>tot_spend_holdout</th>\n",
       "      <th>avg_spend_holdout</th>\n",
       "      <th>duration_holdout</th>\n",
       "      <th>analysis_end_dt</th>\n",
       "      <th>holdout_start_dt</th>\n",
       "      <th>apply_pred_purch</th>\n",
       "      <th>diff</th>\n",
       "      <th>avg_visits</th>\n",
       "      <th>absdiff</th>\n",
       "      <th>reldiff</th>\n",
       "    </tr>\n",
       "  </thead>\n",
       "  <tbody>\n",
       "    <tr>\n",
       "      <th>0</th>\n",
       "      <td>285491739</td>\n",
       "      <td>29.0</td>\n",
       "      <td>953.0</td>\n",
       "      <td>1031.0</td>\n",
       "      <td>1791.24</td>\n",
       "      <td>61.308276</td>\n",
       "      <td>0.0</td>\n",
       "      <td>0.00</td>\n",
       "      <td>0.000000</td>\n",
       "      <td>30</td>\n",
       "      <td>06182022</td>\n",
       "      <td>05192022</td>\n",
       "      <td>0.663884</td>\n",
       "      <td>-0.663884</td>\n",
       "      <td>0.033578</td>\n",
       "      <td>0.663884</td>\n",
       "      <td>19.771306</td>\n",
       "    </tr>\n",
       "    <tr>\n",
       "      <th>2</th>\n",
       "      <td>308320342</td>\n",
       "      <td>899.0</td>\n",
       "      <td>3059.0</td>\n",
       "      <td>3062.0</td>\n",
       "      <td>19595.53</td>\n",
       "      <td>21.790044</td>\n",
       "      <td>8.0</td>\n",
       "      <td>347.38</td>\n",
       "      <td>43.422500</td>\n",
       "      <td>30</td>\n",
       "      <td>06182022</td>\n",
       "      <td>05192022</td>\n",
       "      <td>8.719227</td>\n",
       "      <td>-0.719227</td>\n",
       "      <td>0.337038</td>\n",
       "      <td>0.719227</td>\n",
       "      <td>2.133964</td>\n",
       "    </tr>\n",
       "    <tr>\n",
       "      <th>3</th>\n",
       "      <td>242602527</td>\n",
       "      <td>489.0</td>\n",
       "      <td>3054.0</td>\n",
       "      <td>3059.0</td>\n",
       "      <td>11997.80</td>\n",
       "      <td>24.497014</td>\n",
       "      <td>3.0</td>\n",
       "      <td>87.03</td>\n",
       "      <td>29.010000</td>\n",
       "      <td>30</td>\n",
       "      <td>06182022</td>\n",
       "      <td>05192022</td>\n",
       "      <td>4.745061</td>\n",
       "      <td>-1.745061</td>\n",
       "      <td>0.169941</td>\n",
       "      <td>1.745061</td>\n",
       "      <td>10.268623</td>\n",
       "    </tr>\n",
       "    <tr>\n",
       "      <th>5</th>\n",
       "      <td>345121520</td>\n",
       "      <td>30.0</td>\n",
       "      <td>1407.0</td>\n",
       "      <td>1465.0</td>\n",
       "      <td>5563.66</td>\n",
       "      <td>182.424667</td>\n",
       "      <td>1.0</td>\n",
       "      <td>383.47</td>\n",
       "      <td>383.470000</td>\n",
       "      <td>30</td>\n",
       "      <td>06182022</td>\n",
       "      <td>05192022</td>\n",
       "      <td>0.572574</td>\n",
       "      <td>0.427426</td>\n",
       "      <td>0.024165</td>\n",
       "      <td>0.427426</td>\n",
       "      <td>17.687913</td>\n",
       "    </tr>\n",
       "    <tr>\n",
       "      <th>6</th>\n",
       "      <td>146354484</td>\n",
       "      <td>2311.0</td>\n",
       "      <td>3060.0</td>\n",
       "      <td>3061.0</td>\n",
       "      <td>54717.34</td>\n",
       "      <td>23.621090</td>\n",
       "      <td>29.0</td>\n",
       "      <td>810.22</td>\n",
       "      <td>27.938621</td>\n",
       "      <td>30</td>\n",
       "      <td>06182022</td>\n",
       "      <td>05192022</td>\n",
       "      <td>22.440249</td>\n",
       "      <td>6.559751</td>\n",
       "      <td>1.633007</td>\n",
       "      <td>6.559751</td>\n",
       "      <td>4.016978</td>\n",
       "    </tr>\n",
       "    <tr>\n",
       "      <th>7</th>\n",
       "      <td>35135800471</td>\n",
       "      <td>1.0</td>\n",
       "      <td>3.0</td>\n",
       "      <td>153.0</td>\n",
       "      <td>79.96</td>\n",
       "      <td>45.610000</td>\n",
       "      <td>0.0</td>\n",
       "      <td>0.00</td>\n",
       "      <td>0.000000</td>\n",
       "      <td>30</td>\n",
       "      <td>06182022</td>\n",
       "      <td>05192022</td>\n",
       "      <td>0.082322</td>\n",
       "      <td>-0.082322</td>\n",
       "      <td>0.666667</td>\n",
       "      <td>0.082322</td>\n",
       "      <td>0.123483</td>\n",
       "    </tr>\n",
       "    <tr>\n",
       "      <th>9</th>\n",
       "      <td>25842900338</td>\n",
       "      <td>18.0</td>\n",
       "      <td>459.0</td>\n",
       "      <td>482.0</td>\n",
       "      <td>531.88</td>\n",
       "      <td>28.258333</td>\n",
       "      <td>0.0</td>\n",
       "      <td>0.00</td>\n",
       "      <td>0.000000</td>\n",
       "      <td>30</td>\n",
       "      <td>06182022</td>\n",
       "      <td>05192022</td>\n",
       "      <td>1.075273</td>\n",
       "      <td>-1.075273</td>\n",
       "      <td>0.050109</td>\n",
       "      <td>1.075273</td>\n",
       "      <td>21.458710</td>\n",
       "    </tr>\n",
       "    <tr>\n",
       "      <th>10</th>\n",
       "      <td>337307311</td>\n",
       "      <td>378.0</td>\n",
       "      <td>1609.0</td>\n",
       "      <td>1613.0</td>\n",
       "      <td>13700.97</td>\n",
       "      <td>36.180026</td>\n",
       "      <td>4.0</td>\n",
       "      <td>176.62</td>\n",
       "      <td>44.155000</td>\n",
       "      <td>30</td>\n",
       "      <td>06182022</td>\n",
       "      <td>05192022</td>\n",
       "      <td>6.908398</td>\n",
       "      <td>-2.908398</td>\n",
       "      <td>0.239901</td>\n",
       "      <td>2.908398</td>\n",
       "      <td>12.123348</td>\n",
       "    </tr>\n",
       "    <tr>\n",
       "      <th>11</th>\n",
       "      <td>194465648</td>\n",
       "      <td>282.0</td>\n",
       "      <td>3040.0</td>\n",
       "      <td>3047.0</td>\n",
       "      <td>14990.33</td>\n",
       "      <td>53.298972</td>\n",
       "      <td>6.0</td>\n",
       "      <td>328.40</td>\n",
       "      <td>54.733333</td>\n",
       "      <td>30</td>\n",
       "      <td>06182022</td>\n",
       "      <td>05192022</td>\n",
       "      <td>2.747615</td>\n",
       "      <td>3.252385</td>\n",
       "      <td>0.105263</td>\n",
       "      <td>3.252385</td>\n",
       "      <td>30.897662</td>\n",
       "    </tr>\n",
       "    <tr>\n",
       "      <th>13</th>\n",
       "      <td>27214000123</td>\n",
       "      <td>1.0</td>\n",
       "      <td>54.0</td>\n",
       "      <td>460.0</td>\n",
       "      <td>54.27</td>\n",
       "      <td>15.360000</td>\n",
       "      <td>0.0</td>\n",
       "      <td>0.00</td>\n",
       "      <td>0.000000</td>\n",
       "      <td>30</td>\n",
       "      <td>06182022</td>\n",
       "      <td>05192022</td>\n",
       "      <td>0.017022</td>\n",
       "      <td>-0.017022</td>\n",
       "      <td>0.037037</td>\n",
       "      <td>0.017022</td>\n",
       "      <td>0.459595</td>\n",
       "    </tr>\n",
       "  </tbody>\n",
       "</table>\n",
       "</div>"
      ]
     },
     "metadata": {
      "application/vnd.databricks.v1+output": {
       "addedWidgets": {},
       "arguments": {},
       "data": "<div>\n<style scoped>\n    .dataframe tbody tr th:only-of-type {\n        vertical-align: middle;\n    }\n\n    .dataframe tbody tr th {\n        vertical-align: top;\n    }\n\n    .dataframe thead th {\n        text-align: right;\n    }\n</style>\n<table border=\"1\" class=\"dataframe\">\n  <thead>\n    <tr style=\"text-align: right;\">\n      <th></th>\n      <th>ehhn</th>\n      <th>frequency_cal</th>\n      <th>recency_cal</th>\n      <th>T_cal</th>\n      <th>total_spend_cal</th>\n      <th>avg_spend_cal</th>\n      <th>frequency_holdout</th>\n      <th>tot_spend_holdout</th>\n      <th>avg_spend_holdout</th>\n      <th>duration_holdout</th>\n      <th>analysis_end_dt</th>\n      <th>holdout_start_dt</th>\n      <th>apply_pred_purch</th>\n      <th>diff</th>\n      <th>avg_visits</th>\n      <th>absdiff</th>\n      <th>reldiff</th>\n    </tr>\n  </thead>\n  <tbody>\n    <tr>\n      <th>0</th>\n      <td>285491739</td>\n      <td>29.0</td>\n      <td>953.0</td>\n      <td>1031.0</td>\n      <td>1791.24</td>\n      <td>61.308276</td>\n      <td>0.0</td>\n      <td>0.00</td>\n      <td>0.000000</td>\n      <td>30</td>\n      <td>06182022</td>\n      <td>05192022</td>\n      <td>0.663884</td>\n      <td>-0.663884</td>\n      <td>0.033578</td>\n      <td>0.663884</td>\n      <td>19.771306</td>\n    </tr>\n    <tr>\n      <th>2</th>\n      <td>308320342</td>\n      <td>899.0</td>\n      <td>3059.0</td>\n      <td>3062.0</td>\n      <td>19595.53</td>\n      <td>21.790044</td>\n      <td>8.0</td>\n      <td>347.38</td>\n      <td>43.422500</td>\n      <td>30</td>\n      <td>06182022</td>\n      <td>05192022</td>\n      <td>8.719227</td>\n      <td>-0.719227</td>\n      <td>0.337038</td>\n      <td>0.719227</td>\n      <td>2.133964</td>\n    </tr>\n    <tr>\n      <th>3</th>\n      <td>242602527</td>\n      <td>489.0</td>\n      <td>3054.0</td>\n      <td>3059.0</td>\n      <td>11997.80</td>\n      <td>24.497014</td>\n      <td>3.0</td>\n      <td>87.03</td>\n      <td>29.010000</td>\n      <td>30</td>\n      <td>06182022</td>\n      <td>05192022</td>\n      <td>4.745061</td>\n      <td>-1.745061</td>\n      <td>0.169941</td>\n      <td>1.745061</td>\n      <td>10.268623</td>\n    </tr>\n    <tr>\n      <th>5</th>\n      <td>345121520</td>\n      <td>30.0</td>\n      <td>1407.0</td>\n      <td>1465.0</td>\n      <td>5563.66</td>\n      <td>182.424667</td>\n      <td>1.0</td>\n      <td>383.47</td>\n      <td>383.470000</td>\n      <td>30</td>\n      <td>06182022</td>\n      <td>05192022</td>\n      <td>0.572574</td>\n      <td>0.427426</td>\n      <td>0.024165</td>\n      <td>0.427426</td>\n      <td>17.687913</td>\n    </tr>\n    <tr>\n      <th>6</th>\n      <td>146354484</td>\n      <td>2311.0</td>\n      <td>3060.0</td>\n      <td>3061.0</td>\n      <td>54717.34</td>\n      <td>23.621090</td>\n      <td>29.0</td>\n      <td>810.22</td>\n      <td>27.938621</td>\n      <td>30</td>\n      <td>06182022</td>\n      <td>05192022</td>\n      <td>22.440249</td>\n      <td>6.559751</td>\n      <td>1.633007</td>\n      <td>6.559751</td>\n      <td>4.016978</td>\n    </tr>\n    <tr>\n      <th>7</th>\n      <td>35135800471</td>\n      <td>1.0</td>\n      <td>3.0</td>\n      <td>153.0</td>\n      <td>79.96</td>\n      <td>45.610000</td>\n      <td>0.0</td>\n      <td>0.00</td>\n      <td>0.000000</td>\n      <td>30</td>\n      <td>06182022</td>\n      <td>05192022</td>\n      <td>0.082322</td>\n      <td>-0.082322</td>\n      <td>0.666667</td>\n      <td>0.082322</td>\n      <td>0.123483</td>\n    </tr>\n    <tr>\n      <th>9</th>\n      <td>25842900338</td>\n      <td>18.0</td>\n      <td>459.0</td>\n      <td>482.0</td>\n      <td>531.88</td>\n      <td>28.258333</td>\n      <td>0.0</td>\n      <td>0.00</td>\n      <td>0.000000</td>\n      <td>30</td>\n      <td>06182022</td>\n      <td>05192022</td>\n      <td>1.075273</td>\n      <td>-1.075273</td>\n      <td>0.050109</td>\n      <td>1.075273</td>\n      <td>21.458710</td>\n    </tr>\n    <tr>\n      <th>10</th>\n      <td>337307311</td>\n      <td>378.0</td>\n      <td>1609.0</td>\n      <td>1613.0</td>\n      <td>13700.97</td>\n      <td>36.180026</td>\n      <td>4.0</td>\n      <td>176.62</td>\n      <td>44.155000</td>\n      <td>30</td>\n      <td>06182022</td>\n      <td>05192022</td>\n      <td>6.908398</td>\n      <td>-2.908398</td>\n      <td>0.239901</td>\n      <td>2.908398</td>\n      <td>12.123348</td>\n    </tr>\n    <tr>\n      <th>11</th>\n      <td>194465648</td>\n      <td>282.0</td>\n      <td>3040.0</td>\n      <td>3047.0</td>\n      <td>14990.33</td>\n      <td>53.298972</td>\n      <td>6.0</td>\n      <td>328.40</td>\n      <td>54.733333</td>\n      <td>30</td>\n      <td>06182022</td>\n      <td>05192022</td>\n      <td>2.747615</td>\n      <td>3.252385</td>\n      <td>0.105263</td>\n      <td>3.252385</td>\n      <td>30.897662</td>\n    </tr>\n    <tr>\n      <th>13</th>\n      <td>27214000123</td>\n      <td>1.0</td>\n      <td>54.0</td>\n      <td>460.0</td>\n      <td>54.27</td>\n      <td>15.360000</td>\n      <td>0.0</td>\n      <td>0.00</td>\n      <td>0.000000</td>\n      <td>30</td>\n      <td>06182022</td>\n      <td>05192022</td>\n      <td>0.017022</td>\n      <td>-0.017022</td>\n      <td>0.037037</td>\n      <td>0.017022</td>\n      <td>0.459595</td>\n    </tr>\n  </tbody>\n</table>\n</div>",
       "datasetInfos": [],
       "metadata": {},
       "removedWidgets": [],
       "textData": null,
       "type": "htmlSandbox"
      }
     },
     "output_type": "display_data"
    }
   ],
   "source": [
    "tdf = ndf[ndf.reldiff>0.1]\n",
    "tdf.head(10)"
   ]
  },
  {
   "cell_type": "code",
   "execution_count": 0,
   "metadata": {
    "application/vnd.databricks.v1+cell": {
     "cellMetadata": {
      "byteLimit": 2048000,
      "rowLimit": 10000
     },
     "inputWidgets": {},
     "nuid": "2cde28e0-a85c-45cd-b100-c3f5ffc07d64",
     "showTitle": false,
     "title": ""
    }
   },
   "outputs": [
    {
     "output_type": "display_data",
     "data": {
      "text/html": [
       "<style scoped>\n",
       "  .table-result-container {\n",
       "    max-height: 300px;\n",
       "    overflow: auto;\n",
       "  }\n",
       "  table, th, td {\n",
       "    border: 1px solid black;\n",
       "    border-collapse: collapse;\n",
       "  }\n",
       "  th, td {\n",
       "    padding: 5px;\n",
       "  }\n",
       "  th {\n",
       "    text-align: left;\n",
       "  }\n",
       "</style><div class='table-result-container'><table class='table-result'><thead style='background-color: white'><tr><th>ehhn</th><th>frequency_cal</th><th>recency_cal</th><th>T_cal</th><th>total_spend_cal</th><th>avg_spend_cal</th><th>frequency_holdout</th><th>tot_spend_holdout</th><th>avg_spend_holdout</th><th>duration_holdout</th><th>analysis_end_dt</th><th>holdout_start_dt</th><th>apply_pred_purch</th><th>diff</th><th>avg_visits</th><th>absdiff</th><th>reldiff</th></tr></thead><tbody><tr><td>285491739</td><td>29.0</td><td>953.0</td><td>1031.0</td><td>1791.2399999999998</td><td>61.30827586206895</td><td>0.0</td><td>0.0</td><td>0.0</td><td>30</td><td>06182022</td><td>05192022</td><td>0.6638843618878573</td><td>-0.6638843618878573</td><td>0.033578174186778595</td><td>0.6638843618878573</td><td>19.77130615247275</td></tr><tr><td>308320342</td><td>899.0</td><td>3059.0</td><td>3062.0</td><td>19595.53000000001</td><td>21.790044493882103</td><td>8.0</td><td>347.38000000000005</td><td>43.42250000000001</td><td>30</td><td>06182022</td><td>05192022</td><td>8.71922733194147</td><td>-0.7192273319414699</td><td>0.33703824779339653</td><td>0.7192273319414699</td><td>2.1339635387089784</td></tr><tr><td>242602527</td><td>489.0</td><td>3054.0</td><td>3059.0</td><td>11997.800000000016</td><td>24.497014314928457</td><td>3.0</td><td>87.03</td><td>29.01</td><td>30</td><td>06182022</td><td>05192022</td><td>4.745060640241212</td><td>-1.7450606402412117</td><td>0.16994106090373282</td><td>1.7450606402412117</td><td>10.268622726968516</td></tr><tr><td>345121520</td><td>30.0</td><td>1407.0</td><td>1465.0</td><td>5563.66</td><td>182.42466666666667</td><td>1.0</td><td>383.47</td><td>383.47</td><td>30</td><td>06182022</td><td>05192022</td><td>0.5725735362384856</td><td>0.4274264637615144</td><td>0.024164889836531627</td><td>0.4274264637615144</td><td>17.687912779777964</td></tr><tr><td>146354484</td><td>2311.0</td><td>3060.0</td><td>3061.0</td><td>54717.34</td><td>23.62109043704024</td><td>29.0</td><td>810.2199999999999</td><td>27.93862068965517</td><td>30</td><td>06182022</td><td>05192022</td><td>22.440248674768892</td><td>6.559751325231108</td><td>1.6330065359477124</td><td>6.559751325231108</td><td>4.016977997840143</td></tr><tr><td>35135800471</td><td>1.0</td><td>3.0</td><td>153.0</td><td>79.96000000000001</td><td>45.61</td><td>0.0</td><td>0.0</td><td>0.0</td><td>30</td><td>06182022</td><td>05192022</td><td>0.08232191875953372</td><td>-0.08232191875953372</td><td>0.6666666666666666</td><td>0.08232191875953372</td><td>0.12348287813930059</td></tr><tr><td>25842900338</td><td>18.0</td><td>459.0</td><td>482.0</td><td>531.88</td><td>28.258333333333333</td><td>0.0</td><td>0.0</td><td>0.0</td><td>30</td><td>06182022</td><td>05192022</td><td>1.0752730288123482</td><td>-1.0752730288123482</td><td>0.05010893246187364</td><td>1.0752730288123482</td><td>21.458709574994252</td></tr><tr><td>337307311</td><td>378.0</td><td>1609.0</td><td>1613.0</td><td>13700.969999999992</td><td>36.180026455026436</td><td>4.0</td><td>176.62</td><td>44.155</td><td>30</td><td>06182022</td><td>05192022</td><td>6.9083978899971346</td><td>-2.9083978899971346</td><td>0.2399005593536358</td><td>2.9083978899971346</td><td>12.123347681361112</td></tr><tr><td>194465648</td><td>282.0</td><td>3040.0</td><td>3047.0</td><td>14990.33</td><td>53.298971631205674</td><td>6.0</td><td>328.40000000000003</td><td>54.73333333333334</td><td>30</td><td>06182022</td><td>05192022</td><td>2.747614528766145</td><td>3.252385471233855</td><td>0.10526315789473684</td><td>3.252385471233855</td><td>30.897661976721622</td></tr><tr><td>27214000123</td><td>1.0</td><td>54.0</td><td>460.0</td><td>54.269999999999996</td><td>15.36</td><td>0.0</td><td>0.0</td><td>0.0</td><td>30</td><td>06182022</td><td>05192022</td><td>0.017022041881858505</td><td>-0.017022041881858505</td><td>0.037037037037037035</td><td>0.017022041881858505</td><td>0.45959513081017966</td></tr></tbody></table></div>"
      ]
     },
     "metadata": {
      "application/vnd.databricks.v1+output": {
       "addedWidgets": {},
       "aggData": [],
       "aggError": "",
       "aggOverflow": false,
       "aggSchema": [],
       "aggSeriesLimitReached": false,
       "aggType": "",
       "arguments": {},
       "columnCustomDisplayInfos": {},
       "data": [
        [
         "285491739",
         29.0,
         953.0,
         1031.0,
         1791.2399999999998,
         61.30827586206895,
         0.0,
         0.0,
         0.0,
         30,
         "06182022",
         "05192022",
         0.6638843618878573,
         -0.6638843618878573,
         0.033578174186778595,
         0.6638843618878573,
         19.77130615247275
        ],
        [
         "308320342",
         899.0,
         3059.0,
         3062.0,
         19595.53000000001,
         21.790044493882103,
         8.0,
         347.38000000000005,
         43.42250000000001,
         30,
         "06182022",
         "05192022",
         8.71922733194147,
         -0.7192273319414699,
         0.33703824779339653,
         0.7192273319414699,
         2.1339635387089784
        ],
        [
         "242602527",
         489.0,
         3054.0,
         3059.0,
         11997.800000000016,
         24.497014314928457,
         3.0,
         87.03,
         29.01,
         30,
         "06182022",
         "05192022",
         4.745060640241212,
         -1.7450606402412117,
         0.16994106090373282,
         1.7450606402412117,
         10.268622726968516
        ],
        [
         "345121520",
         30.0,
         1407.0,
         1465.0,
         5563.66,
         182.42466666666667,
         1.0,
         383.47,
         383.47,
         30,
         "06182022",
         "05192022",
         0.5725735362384856,
         0.4274264637615144,
         0.024164889836531627,
         0.4274264637615144,
         17.687912779777964
        ],
        [
         "146354484",
         2311.0,
         3060.0,
         3061.0,
         54717.34,
         23.62109043704024,
         29.0,
         810.2199999999999,
         27.93862068965517,
         30,
         "06182022",
         "05192022",
         22.440248674768892,
         6.559751325231108,
         1.6330065359477124,
         6.559751325231108,
         4.016977997840143
        ],
        [
         "35135800471",
         1.0,
         3.0,
         153.0,
         79.96000000000001,
         45.61,
         0.0,
         0.0,
         0.0,
         30,
         "06182022",
         "05192022",
         0.08232191875953372,
         -0.08232191875953372,
         0.6666666666666666,
         0.08232191875953372,
         0.12348287813930059
        ],
        [
         "25842900338",
         18.0,
         459.0,
         482.0,
         531.88,
         28.258333333333333,
         0.0,
         0.0,
         0.0,
         30,
         "06182022",
         "05192022",
         1.0752730288123482,
         -1.0752730288123482,
         0.05010893246187364,
         1.0752730288123482,
         21.458709574994252
        ],
        [
         "337307311",
         378.0,
         1609.0,
         1613.0,
         13700.969999999992,
         36.180026455026436,
         4.0,
         176.62,
         44.155,
         30,
         "06182022",
         "05192022",
         6.9083978899971346,
         -2.9083978899971346,
         0.2399005593536358,
         2.9083978899971346,
         12.123347681361112
        ],
        [
         "194465648",
         282.0,
         3040.0,
         3047.0,
         14990.33,
         53.298971631205674,
         6.0,
         328.40000000000003,
         54.73333333333334,
         30,
         "06182022",
         "05192022",
         2.747614528766145,
         3.252385471233855,
         0.10526315789473684,
         3.252385471233855,
         30.897661976721622
        ],
        [
         "27214000123",
         1.0,
         54.0,
         460.0,
         54.269999999999996,
         15.36,
         0.0,
         0.0,
         0.0,
         30,
         "06182022",
         "05192022",
         0.017022041881858505,
         -0.017022041881858505,
         0.037037037037037035,
         0.017022041881858505,
         0.45959513081017966
        ]
       ],
       "datasetInfos": [],
       "dbfsResultPath": null,
       "isJsonSchema": true,
       "metadata": {},
       "overflow": false,
       "plotOptions": {
        "customPlotOptions": {},
        "displayType": "table",
        "pivotAggregation": null,
        "pivotColumns": null,
        "xColumns": null,
        "yColumns": null
       },
       "removedWidgets": [],
       "schema": [
        {
         "metadata": "{}",
         "name": "ehhn",
         "type": "\"string\""
        },
        {
         "metadata": "{}",
         "name": "frequency_cal",
         "type": "\"double\""
        },
        {
         "metadata": "{}",
         "name": "recency_cal",
         "type": "\"double\""
        },
        {
         "metadata": "{}",
         "name": "T_cal",
         "type": "\"double\""
        },
        {
         "metadata": "{}",
         "name": "total_spend_cal",
         "type": "\"double\""
        },
        {
         "metadata": "{}",
         "name": "avg_spend_cal",
         "type": "\"double\""
        },
        {
         "metadata": "{}",
         "name": "frequency_holdout",
         "type": "\"double\""
        },
        {
         "metadata": "{}",
         "name": "tot_spend_holdout",
         "type": "\"double\""
        },
        {
         "metadata": "{}",
         "name": "avg_spend_holdout",
         "type": "\"double\""
        },
        {
         "metadata": "{}",
         "name": "duration_holdout",
         "type": "\"long\""
        },
        {
         "metadata": "{}",
         "name": "analysis_end_dt",
         "type": "\"string\""
        },
        {
         "metadata": "{}",
         "name": "holdout_start_dt",
         "type": "\"string\""
        },
        {
         "metadata": "{}",
         "name": "apply_pred_purch",
         "type": "\"double\""
        },
        {
         "metadata": "{}",
         "name": "diff",
         "type": "\"double\""
        },
        {
         "metadata": "{}",
         "name": "avg_visits",
         "type": "\"double\""
        },
        {
         "metadata": "{}",
         "name": "absdiff",
         "type": "\"double\""
        },
        {
         "metadata": "{}",
         "name": "reldiff",
         "type": "\"double\""
        }
       ],
       "type": "table"
      }
     },
     "output_type": "display_data"
    }
   ],
   "source": [
    "sdf=spark.createDataFrame(tdf)\n",
    "sdf.limit(10).display()"
   ]
  },
  {
   "cell_type": "code",
   "execution_count": 0,
   "metadata": {
    "application/vnd.databricks.v1+cell": {
     "cellMetadata": {
      "byteLimit": 2048000,
      "rowLimit": 10000
     },
     "inputWidgets": {},
     "nuid": "636b7ab0-5f01-46be-9756-4d502be2e8e8",
     "showTitle": false,
     "title": ""
    }
   },
   "outputs": [
    {
     "output_type": "display_data",
     "data": {
      "text/html": [
       "<style scoped>\n",
       "  .ansiout {\n",
       "    display: block;\n",
       "    unicode-bidi: embed;\n",
       "    white-space: pre-wrap;\n",
       "    word-wrap: break-word;\n",
       "    word-break: break-all;\n",
       "    font-family: \"Source Code Pro\", \"Menlo\", monospace;;\n",
       "    font-size: 13px;\n",
       "    color: #555;\n",
       "    margin-left: 4px;\n",
       "    line-height: 19px;\n",
       "  }\n",
       "</style>\n",
       "<div class=\"ansiout\"></div>"
      ]
     },
     "metadata": {
      "application/vnd.databricks.v1+output": {
       "addedWidgets": {},
       "arguments": {},
       "data": "<div class=\"ansiout\"></div>",
       "datasetInfos": [],
       "metadata": {},
       "removedWidgets": [],
       "type": "html"
      }
     },
     "output_type": "display_data"
    }
   ],
   "source": [
    "sdf.write.mode('overwrite').parquet('abfss://users@sa8451labsdev.dfs.core.windows.net/j604983/extremecases_new.parquet')"
   ]
  },
  {
   "cell_type": "code",
   "execution_count": 0,
   "metadata": {
    "application/vnd.databricks.v1+cell": {
     "cellMetadata": {},
     "inputWidgets": {},
     "nuid": "89ddc622-87be-400a-b1ac-8fc51998a2fa",
     "showTitle": false,
     "title": ""
    }
   },
   "outputs": [],
   "source": []
  },
  {
   "cell_type": "code",
   "execution_count": 0,
   "metadata": {
    "application/vnd.databricks.v1+cell": {
     "cellMetadata": {
      "byteLimit": 2048000,
      "rowLimit": 10000
     },
     "inputWidgets": {},
     "nuid": "321cb1ee-77de-4ad3-9b17-973dbc6593d4",
     "showTitle": false,
     "title": ""
    }
   },
   "outputs": [
    {
     "output_type": "display_data",
     "data": {
      "text/html": [
       "<style scoped>\n",
       "  .ansiout {\n",
       "    display: block;\n",
       "    unicode-bidi: embed;\n",
       "    white-space: pre-wrap;\n",
       "    word-wrap: break-word;\n",
       "    word-break: break-all;\n",
       "    font-family: \"Source Code Pro\", \"Menlo\", monospace;;\n",
       "    font-size: 13px;\n",
       "    color: #555;\n",
       "    margin-left: 4px;\n",
       "    line-height: 19px;\n",
       "  }\n",
       "</style>\n",
       "<div class=\"ansiout\"></div>"
      ]
     },
     "metadata": {
      "application/vnd.databricks.v1+output": {
       "addedWidgets": {},
       "arguments": {},
       "data": "<div class=\"ansiout\"></div>",
       "datasetInfos": [],
       "metadata": {},
       "removedWidgets": [],
       "type": "html"
      }
     },
     "output_type": "display_data"
    }
   ],
   "source": [
    "hshd_df = spark.read.parquet('abfss://users@sa8451labsdev.dfs.core.windows.net/j604983/extremecases.parquet')\n",
    "ehhn_list = list(hshd_df.select(f.col('ehhn')).toPandas().ehhn)"
   ]
  },
  {
   "cell_type": "code",
   "execution_count": 0,
   "metadata": {
    "application/vnd.databricks.v1+cell": {
     "cellMetadata": {
      "byteLimit": 2048000,
      "rowLimit": 10000
     },
     "inputWidgets": {},
     "nuid": "1adae39b-0e33-499c-9a73-544b64167b60",
     "showTitle": false,
     "title": ""
    }
   },
   "outputs": [
    {
     "output_type": "display_data",
     "data": {
      "image/png": "[encoded data removed]"
     },
     "metadata": {
      "application/vnd.databricks.v1+output": {
       "addedWidgets": {},
       "arguments": {},
       "data": "data:image/png;base64,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",
       "datasetInfos": [],
       "metadata": {
        "imageDimensions": {
         "height": 278,
         "width": 382
        }
       },
       "removedWidgets": [],
       "type": "image"
      },
      "image/png": {
       "height": 278,
       "width": 382
      }
     },
     "output_type": "display_data"
    }
   ],
   "source": [
    "import matplotlib.pyplot as plt\n",
    "colored_data = df[df['ehhn'].isin(ehhn_list)]\n",
    "plt.scatter(df['frequency_holdout'], df['apply_pred_purch'], c='blue', alpha=0.5)\n",
    "plt.scatter(colored_data['frequency_holdout'], colored_data['apply_pred_purch'], c='red', alpha=0.5)\n",
    "plt.ylabel('Predicted')\n",
    "plt.xlabel('Actual')\n",
    "plt.title('Predicted vs Actual trips by Household')\n",
    "plt.show()"
   ]
  },
  {
   "cell_type": "code",
   "execution_count": 0,
   "metadata": {
    "application/vnd.databricks.v1+cell": {
     "cellMetadata": {
      "byteLimit": 2048000,
      "rowLimit": 10000
     },
     "inputWidgets": {},
     "nuid": "398041b6-d782-45ff-a4b4-29eae6b6e8f7",
     "showTitle": false,
     "title": ""
    }
   },
   "outputs": [
    {
     "output_type": "display_data",
     "data": {
      "text/html": [
       "<style scoped>\n",
       "  .ansiout {\n",
       "    display: block;\n",
       "    unicode-bidi: embed;\n",
       "    white-space: pre-wrap;\n",
       "    word-wrap: break-word;\n",
       "    word-break: break-all;\n",
       "    font-family: \"Source Code Pro\", \"Menlo\", monospace;;\n",
       "    font-size: 13px;\n",
       "    color: #555;\n",
       "    margin-left: 4px;\n",
       "    line-height: 19px;\n",
       "  }\n",
       "</style>\n",
       "<div class=\"ansiout\">/databricks/python/lib/python3.8/site-packages/seaborn/_decorators.py:36: FutureWarning: Pass the following variable as a keyword arg: y. From version 0.12, the only valid positional argument will be `data`, and passing other arguments without an explicit keyword will result in an error or misinterpretation.\n",
       "  warnings.warn(\n",
       "</div>"
      ]
     },
     "metadata": {
      "application/vnd.databricks.v1+output": {
       "addedWidgets": {},
       "arguments": {},
       "data": "<div class=\"ansiout\">/databricks/python/lib/python3.8/site-packages/seaborn/_decorators.py:36: FutureWarning: Pass the following variable as a keyword arg: y. From version 0.12, the only valid positional argument will be `data`, and passing other arguments without an explicit keyword will result in an error or misinterpretation.\n  warnings.warn(\n</div>",
       "datasetInfos": [],
       "metadata": {},
       "removedWidgets": [],
       "type": "html"
      }
     },
     "output_type": "display_data"
    },
    {
     "output_type": "display_data",
     "data": {
      "image/png": "[encoded data removed]"
     },
     "metadata": {
      "application/vnd.databricks.v1+output": {
       "addedWidgets": {},
       "arguments": {},
       "data": "data:image/png;base64,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",
       "datasetInfos": [],
       "metadata": {
        "imageDimensions": {
         "height": 266,
         "width": 382
        }
       },
       "removedWidgets": [],
       "type": "image"
      },
      "image/png": {
       "height": 266,
       "width": 382
      }
     },
     "output_type": "display_data"
    }
   ],
   "source": [
    "import seaborn as sns\n",
    "import pandas as pd\n",
    "\n",
    "# Create a 2D density plot using seaborn\n",
    "ax = sns.kdeplot(colored_data['frequency_holdout'], colored_data['apply_pred_purch'], shade=True)\n",
    "ax.set(xlabel='Actual', ylabel='Predicted')\n",
    "\n",
    "\n",
    "# Show the plot\n",
    "plt.show()\n"
   ]
  },
  {
   "cell_type": "code",
   "execution_count": 0,
   "metadata": {
    "application/vnd.databricks.v1+cell": {
     "cellMetadata": {
      "byteLimit": 2048000,
      "rowLimit": 10000
     },
     "inputWidgets": {},
     "nuid": "99289e62-1a14-4b04-af13-3b8e137514ed",
     "showTitle": false,
     "title": ""
    }
   },
   "outputs": [
    {
     "output_type": "display_data",
     "data": {
      "text/html": [
       "<style scoped>\n",
       "  .ansiout {\n",
       "    display: block;\n",
       "    unicode-bidi: embed;\n",
       "    white-space: pre-wrap;\n",
       "    word-wrap: break-word;\n",
       "    word-break: break-all;\n",
       "    font-family: \"Source Code Pro\", \"Menlo\", monospace;;\n",
       "    font-size: 13px;\n",
       "    color: #555;\n",
       "    margin-left: 4px;\n",
       "    line-height: 19px;\n",
       "  }\n",
       "</style>\n",
       "<div class=\"ansiout\">/databricks/python/lib/python3.8/site-packages/seaborn/_decorators.py:36: FutureWarning: Pass the following variable as a keyword arg: y. From version 0.12, the only valid positional argument will be `data`, and passing other arguments without an explicit keyword will result in an error or misinterpretation.\n",
       "  warnings.warn(\n",
       "</div>"
      ]
     },
     "metadata": {
      "application/vnd.databricks.v1+output": {
       "addedWidgets": {},
       "arguments": {},
       "data": "<div class=\"ansiout\">/databricks/python/lib/python3.8/site-packages/seaborn/_decorators.py:36: FutureWarning: Pass the following variable as a keyword arg: y. From version 0.12, the only valid positional argument will be `data`, and passing other arguments without an explicit keyword will result in an error or misinterpretation.\n  warnings.warn(\n</div>",
       "datasetInfos": [],
       "metadata": {},
       "removedWidgets": [],
       "type": "html"
      }
     },
     "output_type": "display_data"
    },
    {
     "output_type": "display_data",
     "data": {
      "image/png": "[encoded data removed]"
     },
     "metadata": {
      "application/vnd.databricks.v1+output": {
       "addedWidgets": {},
       "arguments": {},
       "data": "data:image/png;base64,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",
       "datasetInfos": [],
       "metadata": {
        "imageDimensions": {
         "height": 262,
         "width": 382
        }
       },
       "removedWidgets": [],
       "type": "image"
      },
      "image/png": {
       "height": 262,
       "width": 382
      }
     },
     "output_type": "display_data"
    }
   ],
   "source": [
    "# Create a 2D density plot using seaborn\n",
    "sampled_df = df.sample(n=1000000)\n",
    "\n",
    "ax = sns.kdeplot(sampled_df['frequency_holdout'], sampled_df['apply_pred_purch'], shade=True)\n",
    "ax.set(xlabel='Actual', ylabel='Predicted')\n",
    "\n",
    "# Show the plot\n",
    "plt.show()"
   ]
  },
  {
   "cell_type": "code",
   "execution_count": 0,
   "metadata": {
    "application/vnd.databricks.v1+cell": {
     "cellMetadata": {
      "byteLimit": 2048000,
      "rowLimit": 10000
     },
     "inputWidgets": {},
     "nuid": "8410af3d-4d86-424c-8a1d-b3ae249e16e5",
     "showTitle": false,
     "title": ""
    }
   },
   "outputs": [],
   "source": []
  }
 ],
 "metadata": {
  "application/vnd.databricks.v1+notebook": {
   "dashboards": [],
   "language": "python",
   "notebookMetadata": {
    "pythonIndentUnit": 2
   },
   "notebookName": "select_hshds",
   "widgets": {}
  }
 },
 "nbformat": 4,
 "nbformat_minor": 0
}
